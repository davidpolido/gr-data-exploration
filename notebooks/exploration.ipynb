{
 "cells": [
  {
   "cell_type": "code",
   "execution_count": null,
   "id": "d817ba52",
   "metadata": {},
   "outputs": [],
   "source": [
    "import pandas as pd\n",
    "import altair as alt"
   ]
  },
  {
   "cell_type": "code",
   "execution_count": null,
   "id": "5669d4bc",
   "metadata": {},
   "outputs": [],
   "source": [
    "full_df = pd.read_csv(\"../data/goodreads_library_export.csv\")"
   ]
  },
  {
   "cell_type": "code",
   "execution_count": null,
   "id": "ec774d53",
   "metadata": {},
   "outputs": [],
   "source": [
    "full_df.columns"
   ]
  },
  {
   "cell_type": "code",
   "execution_count": null,
   "id": "c920e43e",
   "metadata": {},
   "outputs": [],
   "source": [
    "relevant_cols = [\"Book Id\", \n",
    "        \"Title\", \n",
    "        \"Author\", \n",
    "        \"ISBN\", \n",
    "        \"ISBN13\", \n",
    "        \"My Rating\", \n",
    "        \"Average Rating\", \n",
    "        \"Publisher\", \n",
    "        \"Number of Pages\", \n",
    "        \"Year Published\",\n",
    "        \"Date Read\",\n",
    "        \"Date Added\",\n",
    "        \"Bookshelves\",\n",
    "        \"Exclusive Shelf\",\n",
    "        \"Read Count\"\n",
    "       ]\n",
    "\n",
    "cols = {}\n",
    "for col in relevant_cols:\n",
    "    cols[col] = col.replace(\" \", \"_\").lower()"
   ]
  },
  {
   "cell_type": "code",
   "execution_count": null,
   "id": "d9039bc4",
   "metadata": {},
   "outputs": [],
   "source": [
    "df = full_df[cols.keys()].rename(columns=cols)"
   ]
  },
  {
   "cell_type": "code",
   "execution_count": null,
   "id": "28bce0ae",
   "metadata": {},
   "outputs": [],
   "source": [
    "df[[\"isbn\", \"isbn13\"]] = df[[\"isbn\", \"isbn13\"]].replace(regex='[\"=]', value=\"\")"
   ]
  },
  {
   "cell_type": "code",
   "execution_count": null,
   "id": "fce7b5f1",
   "metadata": {},
   "outputs": [],
   "source": [
    "df = df.astype({\"date_read\": \"datetime64\", \"date_added\": \"datetime64\"})"
   ]
  },
  {
   "cell_type": "code",
   "execution_count": null,
   "id": "b95f61a2",
   "metadata": {},
   "outputs": [],
   "source": [
    "alt.Chart(df).mark_bar().encode(\n",
    "    x=\"count()\",\n",
    "    y=\"exclusive_shelf\"\n",
    ")"
   ]
  },
  {
   "cell_type": "code",
   "execution_count": null,
   "id": "7defb23b",
   "metadata": {},
   "outputs": [],
   "source": [
    "year = 2019\n",
    "main = alt.Chart(df.loc[df[\"exclusive_shelf\"] == \"read\"]).transform_filter(\n",
    "    f\"year(datum.date_read) >= {year}\").mark_rect(tooltip=True).encode(\n",
    "        x=alt.X(\"day(date_read):N\", axis=None),\n",
    "        y=\"date(date_read):N\",\n",
    "        color=alt.Color(\"count():O\", legend=None))\n",
    "\n",
    "week_summary = alt.Chart(df.loc[df[\"exclusive_shelf\"] == \"read\"]).transform_filter(\n",
    "    f\"year(datum.date_read) >= {year}\").mark_text().encode(\n",
    "        x=\"day(date_read):N\",\n",
    "        text=\"count():Q\")\n",
    "\n",
    "(main & week_summary)"
   ]
  },
  {
   "cell_type": "code",
   "execution_count": null,
   "id": "8ad264e0",
   "metadata": {},
   "outputs": [],
   "source": [
    "df[df.duplicated(subset=\"title\", keep=False)].sort_values(by=\"title\")"
   ]
  },
  {
   "cell_type": "code",
   "execution_count": null,
   "metadata": {},
   "outputs": [],
   "source": [
    "df[\"genre_shelf\"] = df[\"bookshelves\"].str.extract(r\"(read-[^,]*)\").replace(regex=\"read-\", value=\"\")\n",
    "df"
   ]
  },
  {
   "cell_type": "code",
   "execution_count": null,
   "metadata": {},
   "outputs": [],
   "source": [
    "alt.Chart(df.loc[df[\"exclusive_shelf\"] == \"read\"]).mark_bar(tooltip=True).encode(\n",
    "    y=\"count():Q\",\n",
    "    x=\"genre_shelf:N\",\n",
    "    color=\"genre_shelf:N\",\n",
    "    #tooltip=[\"title\", \"author\"]\n",
    ")#.properties(width=1000, height=500)"
   ]
  },
  {
   "cell_type": "code",
   "execution_count": null,
   "metadata": {},
   "outputs": [],
   "source": [
    "alt.Chart(df.loc[df[\"exclusive_shelf\"] == \"read\"]).mark_bar(tooltip=True).encode(\n",
    "    y=\"mean(average_rating):Q\",\n",
    "    x=\"genre_shelf:N\",\n",
    "    color=\"genre_shelf:N\",\n",
    "    #tooltip=[\"title\", \"author\"]\n",
    ")#.properties(width=1000, height=500)"
   ]
  },
  {
   "cell_type": "code",
   "execution_count": null,
   "metadata": {},
   "outputs": [],
   "source": [
    "alt.Chart(df.loc[df[\"exclusive_shelf\"] == \"read\"]).mark_circle(tooltip=True).encode(\n",
    "    y=alt.Y(\"average_rating:Q\", scale=alt.Scale(zero=False)),\n",
    "    x=\"number_of_pages:Q\",\n",
    "    color=\"genre_shelf:N\",\n",
    "    #tooltip=[\"title\", \"author\"]\n",
    ").properties(width=1000, height=500).interactive()"
   ]
  }
 ],
 "metadata": {
  "kernelspec": {
   "name": "python375jvsc74a57bd0eda6d44206d39b7c5ada750dded859338f83f095f6e9fd646d7509488c3f61f7",
   "display_name": "Python 3.7.5 64-bit ('aequitas-wndLPzJj': pipenv)"
  },
  "language_info": {
   "codemirror_mode": {
    "name": "ipython",
    "version": 3
   },
   "file_extension": ".py",
   "mimetype": "text/x-python",
   "name": "python",
   "nbconvert_exporter": "python",
   "pygments_lexer": "ipython3",
   "version": "3.7.5"
  },
  "varInspector": {
   "cols": {
    "lenName": 16,
    "lenType": 16,
    "lenVar": 40
   },
   "kernels_config": {
    "python": {
     "delete_cmd_postfix": "",
     "delete_cmd_prefix": "del ",
     "library": "var_list.py",
     "varRefreshCmd": "print(var_dic_list())"
    },
    "r": {
     "delete_cmd_postfix": ") ",
     "delete_cmd_prefix": "rm(",
     "library": "var_list.r",
     "varRefreshCmd": "cat(var_dic_list()) "
    }
   },
   "types_to_exclude": [
    "module",
    "function",
    "builtin_function_or_method",
    "instance",
    "_Feature"
   ],
   "window_display": false
  }
 },
 "nbformat": 4,
 "nbformat_minor": 5
}