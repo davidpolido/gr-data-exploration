{
 "cells": [
  {
   "cell_type": "code",
   "execution_count": null,
   "id": "d817ba52",
   "metadata": {},
   "outputs": [],
   "source": [
    "import pandas as pd\n",
    "import altair as alt"
   ]
  },
  {
   "cell_type": "code",
   "execution_count": null,
   "id": "5669d4bc",
   "metadata": {},
   "outputs": [],
   "source": [
    "full_df = pd.read_csv(\"../data/goodreads_library_export.csv\")"
   ]
  },
  {
   "cell_type": "code",
   "execution_count": null,
   "id": "ec774d53",
   "metadata": {},
   "outputs": [],
   "source": [
    "full_df.columns"
   ]
  },
  {
   "cell_type": "code",
   "execution_count": null,
   "id": "c920e43e",
   "metadata": {},
   "outputs": [],
   "source": [
    "relevant_cols = [\"Book Id\", \n",
    "        \"Title\", \n",
    "        \"Author\", \n",
    "        \"ISBN\", \n",
    "        \"ISBN13\", \n",
    "        \"My Rating\", \n",
    "        \"Average Rating\", \n",
    "        \"Publisher\", \n",
    "        \"Number of Pages\", \n",
    "        \"Year Published\",\n",
    "        \"Date Read\",\n",
    "        \"Date Added\",\n",
    "        \"Bookshelves\",\n",
    "        \"Exclusive Shelf\",\n",
    "        \"Read Count\"\n",
    "       ]\n",
    "\n",
    "cols = {}\n",
    "for col in relevant_cols:\n",
    "    cols[col] = col.replace(\" \", \"_\").lower()\n",
    "cols[\"Title\"] = \"full_title\""
   ]
  },
  {
   "cell_type": "code",
   "execution_count": null,
   "id": "d9039bc4",
   "metadata": {},
   "outputs": [],
   "source": [
    "df = full_df[cols.keys()].rename(columns=cols)"
   ]
  },
  {
   "cell_type": "code",
   "execution_count": null,
   "id": "28bce0ae",
   "metadata": {},
   "outputs": [],
   "source": [
    "df[[\"isbn\", \"isbn13\"]] = df[[\"isbn\", \"isbn13\"]].replace(regex='[\"=]', value=\"\")"
   ]
  },
  {
   "cell_type": "code",
   "execution_count": null,
   "id": "fce7b5f1",
   "metadata": {},
   "outputs": [],
   "source": [
    "df = df.astype({\"date_read\": \"datetime64\", \"date_added\": \"datetime64\"})"
   ]
  },
  {
   "cell_type": "code",
   "execution_count": null,
   "id": "b95f61a2",
   "metadata": {},
   "outputs": [],
   "source": [
    "alt.Chart(df).mark_bar().encode(\n",
    "    x=\"count()\",\n",
    "    y=\"exclusive_shelf\"\n",
    ")"
   ]
  },
  {
   "cell_type": "code",
   "execution_count": null,
   "id": "7defb23b",
   "metadata": {},
   "outputs": [],
   "source": [
    "year = 2019\n",
    "main = alt.Chart(df.loc[df[\"exclusive_shelf\"] == \"read\"]).transform_filter(\n",
    "    f\"year(datum.date_read) >= {year}\").mark_rect(tooltip=True).encode(\n",
    "        x=alt.X(\"day(date_read):N\", axis=None),\n",
    "        y=\"date(date_read):N\",\n",
    "        color=alt.Color(\"count():O\", legend=None))\n",
    "\n",
    "week_summary = alt.Chart(df.loc[df[\"exclusive_shelf\"] == \"read\"]).transform_filter(\n",
    "    f\"year(datum.date_read) >= {year}\").mark_text().encode(\n",
    "        x=\"day(date_read):N\",\n",
    "        text=\"count():Q\")\n",
    "\n",
    "(main & week_summary)"
   ]
  },
  {
   "cell_type": "code",
   "execution_count": null,
   "id": "8ad264e0",
   "metadata": {},
   "outputs": [],
   "source": [
    "df[df.duplicated(subset=\"full_title\", keep=False)].sort_values(by=\"full_title\")"
   ]
  },
  {
   "cell_type": "code",
   "execution_count": null,
   "metadata": {},
   "outputs": [],
   "source": [
    "df[\"genre_shelf\"] = df[\"bookshelves\"].str.extract(r\"(read-[^,]*)\").replace(regex=\"read-\", value=\"\")\n",
    "df"
   ]
  },
  {
   "cell_type": "code",
   "execution_count": null,
   "metadata": {},
   "outputs": [],
   "source": [
    "df[\"series\"] = df[\"title\"].str.extract(r\"(?:\\()([A-Za-zÀ-ÖØ-öø-ÿ':\\- ]*)(?:,? #)\")"
   ]
  },
  {
   "cell_type": "code",
   "execution_count": null,
   "metadata": {},
   "outputs": [],
   "source": [
    "df[\"series_order\"] = df[\"title\"].str.extract(r\"(?:,? #)([0-9]*)\")"
   ]
  },
  {
   "cell_type": "code",
   "execution_count": null,
   "metadata": {},
   "outputs": [],
   "source": [
    "df[\"series_order\"] = df[\"series_order\"].astype(float)\n",
    "df.dtypes"
   ]
  },
  {
   "cell_type": "code",
   "execution_count": null,
   "metadata": {},
   "outputs": [],
   "source": [
    "alt.Chart(df.loc[~df[\"series\"].isna()]).mark_rect().encode(\n",
    "    x=\"series_order:O\",\n",
    "    y=\"series:N\",\n",
    "    color=\"average_rating:Q\",\n",
    "    tooltip=[\"title\", \"author\", \"series\", \"series_order\", \"average_rating\", \"my_rating\"]\n",
    ")"
   ]
  },
  {
   "cell_type": "code",
   "execution_count": null,
   "metadata": {},
   "outputs": [],
   "source": [
    "df.loc[df[\"title\"].str.contains(r\"\\(\") & df[\"series\"].isna()]"
   ]
  },
  {
   "cell_type": "code",
   "execution_count": null,
   "metadata": {},
   "outputs": [],
   "source": [
    "df.loc[df[\"series\"].isna()]"
   ]
  },
  {
   "cell_type": "code",
   "execution_count": null,
   "metadata": {},
   "outputs": [],
   "source": [
    "df"
   ]
  },
  {
   "cell_type": "code",
   "execution_count": null,
   "metadata": {},
   "outputs": [],
   "source": [
    "test = df[\"title\"].str.extract(r\"(?P<title_trimmed>.*)(?:\\()(?P<series_name>[A-Za-zÀ-ÖØ-öø-ÿ':\\- ]*)(?:,? #)(?P<series_number>[0-9]*.?[0-9])(?:.*)\")#.isna().sum()\n",
    "test2 = pd.merge(df, test, left_index=True, right_index=True)\n",
    "test2.loc[~test2[\"series\"].isna()][[\"title\",\"series\", \"series_order\", \"title_trimmed\", \"series_name\", \"series_number\"]][200:250]\n",
    "#test2[64:65]\n",
    "test2[\"series_number\"].str.replace(\"-\",\"\").astype(float)"
   ]
  },
  {
   "cell_type": "code",
   "execution_count": null,
   "metadata": {},
   "outputs": [],
   "source": [
    "def remove_series_from_title(s):\n",
    "    return s[\"title\"].str.replace()"
   ]
  },
  {
   "cell_type": "code",
   "execution_count": null,
   "metadata": {},
   "outputs": [],
   "source": [
    "alt.Chart(df.loc[df[\"exclusive_shelf\"] == \"read\"]).mark_bar(tooltip=True).encode(\n",
    "    y=\"count():Q\",\n",
    "    x=\"genre_shelf:N\",\n",
    "    color=\"genre_shelf:N\",\n",
    "    #tooltip=[\"title\", \"author\"]\n",
    ")#.properties(width=1000, height=500)"
   ]
  },
  {
   "cell_type": "code",
   "execution_count": null,
   "metadata": {},
   "outputs": [],
   "source": [
    "alt.Chart(df.loc[df[\"exclusive_shelf\"] == \"read\"]).mark_bar(tooltip=True).encode(\n",
    "    y=\"mean(average_rating):Q\",\n",
    "    x=\"genre_shelf:N\",\n",
    "    color=\"genre_shelf:N\",\n",
    "    #tooltip=[\"title\", \"author\"]\n",
    ")#.properties(width=1000, height=500)"
   ]
  },
  {
   "cell_type": "code",
   "execution_count": null,
   "metadata": {},
   "outputs": [],
   "source": [
    "alt.Chart(df.loc[df[\"exclusive_shelf\"] == \"read\"]).mark_circle(tooltip=True).encode(\n",
    "    y=alt.Y(\"average_rating:Q\", scale=alt.Scale(zero=False)),\n",
    "    x=\"number_of_pages:Q\",\n",
    "    color=\"genre_shelf:N\",\n",
    "    tooltip=[\"title\", \"author\", \"genre_shelf\", \"average_rating\", \"number_of_pages\"]\n",
    ").properties(width=1000, height=500).interactive()"
   ]
  },
  {
   "cell_type": "code",
   "execution_count": null,
   "metadata": {},
   "outputs": [],
   "source": [
    "alt.Chart(df.loc[df[\"exclusive_shelf\"] == \"read\"]).mark_circle(tooltip=True).encode(\n",
    "    y=alt.Y(\"my_rating:Q\", scale=alt.Scale(domain=[-0.3, 5.3])),\n",
    "    x=\"number_of_pages:Q\",\n",
    "    color=\"genre_shelf:N\",\n",
    "    tooltip=[\"title\", \"author\", \"genre_shelf\", \"number_of_pages\"]\n",
    ").properties(width=1000, height=500).interactive()"
   ]
  },
  {
   "cell_type": "code",
   "execution_count": null,
   "metadata": {},
   "outputs": [],
   "source": [
    "from bokeh.io import output_notebook\n",
    "output_notebook()"
   ]
  },
  {
   "cell_type": "code",
   "execution_count": null,
   "metadata": {},
   "outputs": [],
   "source": [
    "y"
   ]
  },
  {
   "cell_type": "code",
   "execution_count": null,
   "metadata": {},
   "outputs": [],
   "source": [
    "from bokeh.plotting import figure, show\n",
    "\n",
    "\n",
    "# prepare some data\n",
    "x = df.loc[df[\"exclusive_shelf\"] == \"read\"][\"average_rating\"].to_list()\n",
    "y = df.loc[df[\"exclusive_shelf\"] == \"read\"][\"my_rating\"].to_list()\n",
    "\n",
    "# create a new plot with a title and axis labels\n",
    "p = figure(y_range=[-0.5, 5.5], x_range=[3,5])\n",
    "\n",
    "# add a line renderer with legend and line thickness\n",
    "p.circle(x=x, y=y)\n",
    "#p.y_range.start = 0\n",
    "# show the results\n",
    "show(p)"
   ]
  }
 ],
 "metadata": {
  "kernelspec": {
   "name": "python391jvsc74a57bd0dfebb5595cf2787eadc8cb7ff1edd5633a5d86ee744ced03e7a2d5c965bd1c64",
   "display_name": "Python 3.9.1 64-bit ('gr-data-exploration-aQs8F3vJ': pipenv)"
  },
  "language_info": {
   "codemirror_mode": {
    "name": "ipython",
    "version": 3
   },
   "file_extension": ".py",
   "mimetype": "text/x-python",
   "name": "python",
   "nbconvert_exporter": "python",
   "pygments_lexer": "ipython3",
   "version": "3.9.1"
  },
  "varInspector": {
   "cols": {
    "lenName": 16,
    "lenType": 16,
    "lenVar": 40
   },
   "kernels_config": {
    "python": {
     "delete_cmd_postfix": "",
     "delete_cmd_prefix": "del ",
     "library": "var_list.py",
     "varRefreshCmd": "print(var_dic_list())"
    },
    "r": {
     "delete_cmd_postfix": ") ",
     "delete_cmd_prefix": "rm(",
     "library": "var_list.r",
     "varRefreshCmd": "cat(var_dic_list()) "
    }
   },
   "types_to_exclude": [
    "module",
    "function",
    "builtin_function_or_method",
    "instance",
    "_Feature"
   ],
   "window_display": false
  }
 },
 "nbformat": 4,
 "nbformat_minor": 5
}