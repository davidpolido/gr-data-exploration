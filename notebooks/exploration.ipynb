{
 "cells": [
  {
   "cell_type": "code",
   "execution_count": null,
   "id": "d817ba52",
   "metadata": {},
   "outputs": [],
   "source": [
    "import pandas as pd\n",
    "import altair as alt"
   ]
  },
  {
   "cell_type": "code",
   "execution_count": null,
   "id": "5669d4bc",
   "metadata": {},
   "outputs": [],
   "source": [
    "full_df = pd.read_csv(\"../data/goodreads_library_export.csv\")"
   ]
  },
  {
   "cell_type": "code",
   "execution_count": null,
   "id": "ec774d53",
   "metadata": {},
   "outputs": [],
   "source": [
    "full_df.columns"
   ]
  },
  {
   "cell_type": "code",
   "execution_count": null,
   "id": "c920e43e",
   "metadata": {},
   "outputs": [],
   "source": [
    "relevant_cols = [\"Book Id\", \n",
    "        \"Title\", \n",
    "        \"Author\", \n",
    "        \"ISBN\", \n",
    "        \"ISBN13\", \n",
    "        \"My Rating\", \n",
    "        \"Average Rating\", \n",
    "        \"Publisher\", \n",
    "        \"Number of Pages\", \n",
    "        \"Year Published\",\n",
    "        \"Date Read\",\n",
    "        \"Date Added\",\n",
    "        \"Bookshelves\",\n",
    "        \"Exclusive Shelf\",\n",
    "        \"Read Count\"\n",
    "       ]\n",
    "\n",
    "cols = {}\n",
    "for col in relevant_cols:\n",
    "    cols[col] = col.replace(\" \", \"_\").lower()"
   ]
  },
  {
   "cell_type": "code",
   "execution_count": null,
   "id": "d9039bc4",
   "metadata": {},
   "outputs": [],
   "source": [
    "df = full_df[cols_dict.keys()].rename(columns=cols)"
   ]
  },
  {
   "cell_type": "code",
   "execution_count": null,
   "id": "28bce0ae",
   "metadata": {},
   "outputs": [],
   "source": [
    "df[[\"isbn\", \"isbn13\"]] = df[[\"isbn\", \"isbn13\"]].replace(regex='[\"=]', value=\"\")"
   ]
  },
  {
   "cell_type": "code",
   "execution_count": null,
   "id": "fce7b5f1",
   "metadata": {},
   "outputs": [],
   "source": [
    "df = df.astype({\"date_read\": \"datetime64\", \"date_added\": \"datetime64\"})"
   ]
  },
  {
   "cell_type": "code",
   "execution_count": null,
   "id": "b95f61a2",
   "metadata": {},
   "outputs": [],
   "source": [
    "alt.Chart(df).mark_bar().encode(\n",
    "    x=\"count()\",\n",
    "    y=\"exclusive_shelf\"\n",
    ")"
   ]
  },
  {
   "cell_type": "code",
   "execution_count": null,
   "id": "7defb23b",
   "metadata": {},
   "outputs": [],
   "source": [
    "alt.Chart(df.loc[df[\"exclusive_shelf\"] == \"read\"]).transform_filter(\n",
    "    \"year(datum.date_read) >= 2014\"\n",
    ").mark_bar().encode(\n",
    "    x=\"yearmonth(date_read):T\",\n",
    "    y=\"count()\"\n",
    ").properties(width=800)"
   ]
  },
  {
   "cell_type": "code",
   "execution_count": null,
   "id": "8ad264e0",
   "metadata": {},
   "outputs": [],
   "source": [
    "df[df.duplicated(subset=\"title\", keep=False)].sort_values(by=\"title\")"
   ]
  },
  {
   "cell_type": "code",
   "execution_count": null,
   "id": "d2d695c6",
   "metadata": {},
   "outputs": [],
   "source": [
    "test = [0,1,3,2,5,3,2,6,1,0,12,1,2,7,8]\n"
   ]
  },
  {
   "cell_type": "code",
   "execution_count": null,
   "id": "943b0aa4",
   "metadata": {},
   "outputs": [],
   "source": [
    "%timeit result = [i for i in test if test.count(i)==1]"
   ]
  },
  {
   "cell_type": "code",
   "execution_count": null,
   "id": "a97197d3",
   "metadata": {},
   "outputs": [],
   "source": [
    "%%timeit\n",
    "result2 = []\n",
    "\n",
    "for i in test:\n",
    "    if test.count(i) == 1:\n",
    "        result2.append(i)"
   ]
  },
  {
   "cell_type": "code",
   "execution_count": null,
   "id": "e775886e",
   "metadata": {},
   "outputs": [],
   "source": [
    "%%timeit\n",
    "features_count = {i: test.count(i) for i in test}\n",
    "single_features = [key for key, value in features_count.items() if value == 1]"
   ]
  },
  {
   "cell_type": "code",
   "execution_count": null,
   "id": "036092a5",
   "metadata": {},
   "outputs": [],
   "source": [
    "result == result2 == single_features"
   ]
  }
 ],
 "metadata": {
  "kernelspec": {
   "display_name": "Python 3",
   "language": "python",
   "name": "python3"
  },
  "language_info": {
   "codemirror_mode": {
    "name": "ipython",
    "version": 3
   },
   "file_extension": ".py",
   "mimetype": "text/x-python",
   "name": "python",
   "nbconvert_exporter": "python",
   "pygments_lexer": "ipython3",
   "version": "3.9.1"
  },
  "varInspector": {
   "cols": {
    "lenName": 16,
    "lenType": 16,
    "lenVar": 40
   },
   "kernels_config": {
    "python": {
     "delete_cmd_postfix": "",
     "delete_cmd_prefix": "del ",
     "library": "var_list.py",
     "varRefreshCmd": "print(var_dic_list())"
    },
    "r": {
     "delete_cmd_postfix": ") ",
     "delete_cmd_prefix": "rm(",
     "library": "var_list.r",
     "varRefreshCmd": "cat(var_dic_list()) "
    }
   },
   "types_to_exclude": [
    "module",
    "function",
    "builtin_function_or_method",
    "instance",
    "_Feature"
   ],
   "window_display": false
  }
 },
 "nbformat": 4,
 "nbformat_minor": 5
}